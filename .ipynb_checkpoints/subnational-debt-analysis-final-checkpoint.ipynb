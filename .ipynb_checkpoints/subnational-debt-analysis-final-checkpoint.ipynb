{
 "cells": [
  {
   "cell_type": "code",
   "execution_count": null,
   "metadata": {
    "collapsed": true
   },
   "outputs": [],
   "source": [
    "%matplotlib inline"
   ]
  },
  {
   "cell_type": "markdown",
   "metadata": {},
   "source": [
    "\n",
    "# 3D scatterplot\n",
    "\n",
    "\n",
    "Demonstration of a basic scatterplot in 3D.\n",
    "\n"
   ]
  },
  {
   "cell_type": "code",
   "execution_count": 57,
   "metadata": {
    "scrolled": true
   },
   "outputs": [
    {
     "data": {
      "text/html": [
       "<div>\n",
       "<style>\n",
       "    .dataframe thead tr:only-child th {\n",
       "        text-align: right;\n",
       "    }\n",
       "\n",
       "    .dataframe thead th {\n",
       "        text-align: left;\n",
       "    }\n",
       "\n",
       "    .dataframe tbody tr th {\n",
       "        vertical-align: top;\n",
       "    }\n",
       "</style>\n",
       "<table border=\"1\" class=\"dataframe\">\n",
       "  <thead>\n",
       "    <tr style=\"text-align: right;\">\n",
       "      <th></th>\n",
       "      <th>Country</th>\n",
       "      <th>Subnational Debt</th>\n",
       "      <th>Population</th>\n",
       "      <th>Area</th>\n",
       "      <th>Debt per km squared</th>\n",
       "      <th>Debt per person</th>\n",
       "      <th>Population Density</th>\n",
       "      <th>Share of GDP</th>\n",
       "      <th>Share of Public Debt</th>\n",
       "      <th>GDP</th>\n",
       "      <th>GDP Growth</th>\n",
       "      <th>Lower quartile for population density</th>\n",
       "      <th>GDP per km squared</th>\n",
       "    </tr>\n",
       "  </thead>\n",
       "  <tbody>\n",
       "    <tr>\n",
       "      <th>0</th>\n",
       "      <td>Australia</td>\n",
       "      <td>214.0</td>\n",
       "      <td>23639</td>\n",
       "      <td>7703354</td>\n",
       "      <td>27780.1</td>\n",
       "      <td>9052.8</td>\n",
       "      <td>3.07</td>\n",
       "      <td>19.270136</td>\n",
       "      <td>30.443198</td>\n",
       "      <td>1131.8</td>\n",
       "      <td>2.8</td>\n",
       "      <td>True</td>\n",
       "      <td>0.000147</td>\n",
       "    </tr>\n",
       "    <tr>\n",
       "      <th>3</th>\n",
       "      <td>Canada</td>\n",
       "      <td>1017.8</td>\n",
       "      <td>35540</td>\n",
       "      <td>9093507</td>\n",
       "      <td>111926.0</td>\n",
       "      <td>28638.2</td>\n",
       "      <td>3.91</td>\n",
       "      <td>63.542137</td>\n",
       "      <td>59.039130</td>\n",
       "      <td>1586.7</td>\n",
       "      <td>0.9</td>\n",
       "      <td>True</td>\n",
       "      <td>0.000174</td>\n",
       "    </tr>\n",
       "    <tr>\n",
       "      <th>6</th>\n",
       "      <td>Estonia</td>\n",
       "      <td>1.7</td>\n",
       "      <td>1316</td>\n",
       "      <td>43432</td>\n",
       "      <td>39141.6</td>\n",
       "      <td>1291.8</td>\n",
       "      <td>30.30</td>\n",
       "      <td>4.710285</td>\n",
       "      <td>34.507688</td>\n",
       "      <td>38.1</td>\n",
       "      <td>1.4</td>\n",
       "      <td>True</td>\n",
       "      <td>0.000877</td>\n",
       "    </tr>\n",
       "    <tr>\n",
       "      <th>7</th>\n",
       "      <td>Finland</td>\n",
       "      <td>27.3</td>\n",
       "      <td>5463</td>\n",
       "      <td>303891</td>\n",
       "      <td>89834.8</td>\n",
       "      <td>4997.3</td>\n",
       "      <td>17.98</td>\n",
       "      <td>12.300052</td>\n",
       "      <td>17.314553</td>\n",
       "      <td>231.4</td>\n",
       "      <td>0.2</td>\n",
       "      <td>True</td>\n",
       "      <td>0.000761</td>\n",
       "    </tr>\n",
       "    <tr>\n",
       "      <th>12</th>\n",
       "      <td>Iceland</td>\n",
       "      <td>1.8</td>\n",
       "      <td>327</td>\n",
       "      <td>100243</td>\n",
       "      <td>17956.4</td>\n",
       "      <td>5504.6</td>\n",
       "      <td>3.26</td>\n",
       "      <td>12.772357</td>\n",
       "      <td>11.388120</td>\n",
       "      <td>15.8</td>\n",
       "      <td>4.2</td>\n",
       "      <td>True</td>\n",
       "      <td>0.000158</td>\n",
       "    </tr>\n",
       "    <tr>\n",
       "      <th>20</th>\n",
       "      <td>Norway</td>\n",
       "      <td>52.6</td>\n",
       "      <td>5137</td>\n",
       "      <td>304246</td>\n",
       "      <td>172886.4</td>\n",
       "      <td>10239.4</td>\n",
       "      <td>16.88</td>\n",
       "      <td>15.574597</td>\n",
       "      <td>47.261467</td>\n",
       "      <td>322.2</td>\n",
       "      <td>1.6</td>\n",
       "      <td>True</td>\n",
       "      <td>0.001059</td>\n",
       "    </tr>\n",
       "    <tr>\n",
       "      <th>26</th>\n",
       "      <td>Sweden</td>\n",
       "      <td>66.4</td>\n",
       "      <td>9696</td>\n",
       "      <td>407340</td>\n",
       "      <td>163008.8</td>\n",
       "      <td>6848.2</td>\n",
       "      <td>23.80</td>\n",
       "      <td>15.119931</td>\n",
       "      <td>24.197714</td>\n",
       "      <td>469.0</td>\n",
       "      <td>4.1</td>\n",
       "      <td>True</td>\n",
       "      <td>0.001151</td>\n",
       "    </tr>\n",
       "    <tr>\n",
       "      <th>30</th>\n",
       "      <td>US</td>\n",
       "      <td>5126.8</td>\n",
       "      <td>319173</td>\n",
       "      <td>9161923</td>\n",
       "      <td>559576.8</td>\n",
       "      <td>16062.8</td>\n",
       "      <td>34.84</td>\n",
       "      <td>29.552668</td>\n",
       "      <td>23.324363</td>\n",
       "      <td>18036.6</td>\n",
       "      <td>2.6</td>\n",
       "      <td>True</td>\n",
       "      <td>0.001969</td>\n",
       "    </tr>\n",
       "  </tbody>\n",
       "</table>\n",
       "</div>"
      ],
      "text/plain": [
       "      Country  Subnational Debt  Population     Area  Debt per km squared  \\\n",
       "0   Australia             214.0       23639  7703354              27780.1   \n",
       "3      Canada            1017.8       35540  9093507             111926.0   \n",
       "6     Estonia               1.7        1316    43432              39141.6   \n",
       "7     Finland              27.3        5463   303891              89834.8   \n",
       "12    Iceland               1.8         327   100243              17956.4   \n",
       "20     Norway              52.6        5137   304246             172886.4   \n",
       "26     Sweden              66.4        9696   407340             163008.8   \n",
       "30         US            5126.8      319173  9161923             559576.8   \n",
       "\n",
       "    Debt per person  Population Density  Share of GDP  Share of Public Debt  \\\n",
       "0            9052.8                3.07     19.270136             30.443198   \n",
       "3           28638.2                3.91     63.542137             59.039130   \n",
       "6            1291.8               30.30      4.710285             34.507688   \n",
       "7            4997.3               17.98     12.300052             17.314553   \n",
       "12           5504.6                3.26     12.772357             11.388120   \n",
       "20          10239.4               16.88     15.574597             47.261467   \n",
       "26           6848.2               23.80     15.119931             24.197714   \n",
       "30          16062.8               34.84     29.552668             23.324363   \n",
       "\n",
       "        GDP  GDP Growth  Lower quartile for population density  \\\n",
       "0    1131.8         2.8                                   True   \n",
       "3    1586.7         0.9                                   True   \n",
       "6      38.1         1.4                                   True   \n",
       "7     231.4         0.2                                   True   \n",
       "12     15.8         4.2                                   True   \n",
       "20    322.2         1.6                                   True   \n",
       "26    469.0         4.1                                   True   \n",
       "30  18036.6         2.6                                   True   \n",
       "\n",
       "    GDP per km squared  \n",
       "0             0.000147  \n",
       "3             0.000174  \n",
       "6             0.000877  \n",
       "7             0.000761  \n",
       "12            0.000158  \n",
       "20            0.001059  \n",
       "26            0.001151  \n",
       "30            0.001969  "
      ]
     },
     "execution_count": 57,
     "metadata": {},
     "output_type": "execute_result"
    }
   ],
   "source": [
    "import numpy as np\n",
    "import pandas as pd\n",
    "\n",
    "df = pd.read_excel('subnational-debt-OECD.xlsx', sheetname=\"Sheet1\")\n",
    "df[\"GDP per km squared\"] = df.GDP / df.Area\n",
    "simC = df[df[\"Population Density\"] < 52]\n",
    "simC"
   ]
  },
  {
   "cell_type": "code",
   "execution_count": null,
   "metadata": {
    "collapsed": true
   },
   "outputs": [],
   "source": [
    "labels = [\"Debt per km squared\" , \"GDP per km squared\"]\n",
    "\n",
    "xs = df[labels[0]]\n",
    "ys = df[labels[1]]"
   ]
  },
  {
   "cell_type": "code",
   "execution_count": 71,
   "metadata": {},
   "outputs": [
    {
     "data": {
      "text/plain": [
       "<matplotlib.axes._subplots.AxesSubplot at 0x818b1fec>"
      ]
     },
     "execution_count": 71,
     "metadata": {},
     "output_type": "execute_result"
    },
    {
     "data": {
      "text/plain": [
       "<matplotlib.figure.Figure at 0x81a4ccec>"
      ]
     },
     "metadata": {},
     "output_type": "display_data"
    },
    {
     "data": {
      "image/png": "[encoded data removed]",
      "text/plain": [
       "<matplotlib.figure.Figure at 0x81921dac>"
      ]
     },
     "metadata": {},
     "output_type": "display_data"
    }
   ],
   "source": [
    "import matplotlib.pyplot as plt\n",
    "import seaborn as sns\n",
    "from mpl_toolkits.mplot3d import Axes3D\n",
    "%matplotlib inline\n",
    "# ax = fig.add_subplot(111)\n",
    "\n",
    "\n",
    "df.plot.scatter(x=labels[0], y=labels[1], c=\"Population Density\", cmap=\"coolwarm\")\n"
   ]
  },
  {
   "cell_type": "code",
   "execution_count": null,
   "metadata": {
    "collapsed": true
   },
   "outputs": [],
   "source": []
  }
 ],
 "metadata": {
  "kernelspec": {
   "display_name": "Python 3",
   "language": "python",
   "name": "python3"
  },
  "language_info": {
   "codemirror_mode": {
    "name": "ipython",
    "version": 3
   },
   "file_extension": ".py",
   "mimetype": "text/x-python",
   "name": "python",
   "nbconvert_exporter": "python",
   "pygments_lexer": "ipython3",
   "version": "3.6.3"
  }
 },
 "nbformat": 4,
 "nbformat_minor": 1
}
