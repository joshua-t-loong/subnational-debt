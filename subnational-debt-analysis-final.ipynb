{
 "cells": [
  {
   "cell_type": "code",
   "execution_count": null,
   "metadata": {
    "collapsed": true
   },
   "outputs": [],
   "source": [
    "%matplotlib inline"
   ]
  },
  {
   "cell_type": "markdown",
   "metadata": {},
   "source": [
    "\n",
    "# Subnational Debt\n",
    "\n",
    "\n"
   ]
  },
  {
   "cell_type": "code",
   "execution_count": 16,
   "metadata": {
    "scrolled": true
   },
   "outputs": [
    {
     "data": {
      "text/html": [
       "<div>\n",
       "<style>\n",
       "    .dataframe thead tr:only-child th {\n",
       "        text-align: right;\n",
       "    }\n",
       "\n",
       "    .dataframe thead th {\n",
       "        text-align: left;\n",
       "    }\n",
       "\n",
       "    .dataframe tbody tr th {\n",
       "        vertical-align: top;\n",
       "    }\n",
       "</style>\n",
       "<table border=\"1\" class=\"dataframe\">\n",
       "  <thead>\n",
       "    <tr style=\"text-align: right;\">\n",
       "      <th></th>\n",
       "      <th>Country</th>\n",
       "      <th>Subnational Debt</th>\n",
       "      <th>Population</th>\n",
       "      <th>Area</th>\n",
       "      <th>Debt per km squared</th>\n",
       "      <th>Debt per person</th>\n",
       "      <th>Population Density</th>\n",
       "      <th>Share of GDP</th>\n",
       "      <th>Share of Public Debt</th>\n",
       "      <th>GDP</th>\n",
       "      <th>GDP Growth</th>\n",
       "      <th>Lower quartile for population density</th>\n",
       "      <th>GDP per km squared</th>\n",
       "    </tr>\n",
       "  </thead>\n",
       "  <tbody>\n",
       "    <tr>\n",
       "      <th>0</th>\n",
       "      <td>Australia</td>\n",
       "      <td>214.0</td>\n",
       "      <td>23639</td>\n",
       "      <td>7703354</td>\n",
       "      <td>27780.1</td>\n",
       "      <td>9052.8</td>\n",
       "      <td>3.07</td>\n",
       "      <td>19.270136</td>\n",
       "      <td>30.443198</td>\n",
       "      <td>1131.8</td>\n",
       "      <td>2.8</td>\n",
       "      <td>True</td>\n",
       "      <td>1.469230e+05</td>\n",
       "    </tr>\n",
       "    <tr>\n",
       "      <th>3</th>\n",
       "      <td>Canada</td>\n",
       "      <td>1017.8</td>\n",
       "      <td>35540</td>\n",
       "      <td>9093507</td>\n",
       "      <td>111926.0</td>\n",
       "      <td>28638.2</td>\n",
       "      <td>3.91</td>\n",
       "      <td>63.542137</td>\n",
       "      <td>59.039130</td>\n",
       "      <td>1586.7</td>\n",
       "      <td>0.9</td>\n",
       "      <td>True</td>\n",
       "      <td>1.744871e+05</td>\n",
       "    </tr>\n",
       "    <tr>\n",
       "      <th>8</th>\n",
       "      <td>France</td>\n",
       "      <td>287.6</td>\n",
       "      <td>66169</td>\n",
       "      <td>647795</td>\n",
       "      <td>443967.6</td>\n",
       "      <td>4346.4</td>\n",
       "      <td>102.14</td>\n",
       "      <td>11.044813</td>\n",
       "      <td>9.266709</td>\n",
       "      <td>2729.2</td>\n",
       "      <td>1.3</td>\n",
       "      <td>False</td>\n",
       "      <td>4.213061e+06</td>\n",
       "    </tr>\n",
       "    <tr>\n",
       "      <th>16</th>\n",
       "      <td>Japan</td>\n",
       "      <td>1742.4</td>\n",
       "      <td>127053</td>\n",
       "      <td>373530</td>\n",
       "      <td>4664685.6</td>\n",
       "      <td>13714.0</td>\n",
       "      <td>340.14</td>\n",
       "      <td>37.286328</td>\n",
       "      <td>15.582228</td>\n",
       "      <td>4871.0</td>\n",
       "      <td>0.6</td>\n",
       "      <td>False</td>\n",
       "      <td>1.304045e+07</td>\n",
       "    </tr>\n",
       "    <tr>\n",
       "      <th>25</th>\n",
       "      <td>Spain</td>\n",
       "      <td>492.4</td>\n",
       "      <td>46464</td>\n",
       "      <td>501757</td>\n",
       "      <td>981351.5</td>\n",
       "      <td>10597.5</td>\n",
       "      <td>92.60</td>\n",
       "      <td>31.503996</td>\n",
       "      <td>26.752976</td>\n",
       "      <td>1612.9</td>\n",
       "      <td>3.2</td>\n",
       "      <td>False</td>\n",
       "      <td>3.214504e+06</td>\n",
       "    </tr>\n",
       "    <tr>\n",
       "      <th>26</th>\n",
       "      <td>Sweden</td>\n",
       "      <td>66.4</td>\n",
       "      <td>9696</td>\n",
       "      <td>407340</td>\n",
       "      <td>163008.8</td>\n",
       "      <td>6848.2</td>\n",
       "      <td>23.80</td>\n",
       "      <td>15.119931</td>\n",
       "      <td>24.197714</td>\n",
       "      <td>469.0</td>\n",
       "      <td>4.1</td>\n",
       "      <td>True</td>\n",
       "      <td>1.151372e+06</td>\n",
       "    </tr>\n",
       "    <tr>\n",
       "      <th>28</th>\n",
       "      <td>Turkey</td>\n",
       "      <td>47.1</td>\n",
       "      <td>76619</td>\n",
       "      <td>769604</td>\n",
       "      <td>61200.3</td>\n",
       "      <td>614.7</td>\n",
       "      <td>99.56</td>\n",
       "      <td>3.132051</td>\n",
       "      <td>8.035278</td>\n",
       "      <td>1884.3</td>\n",
       "      <td>6.1</td>\n",
       "      <td>False</td>\n",
       "      <td>2.448402e+06</td>\n",
       "    </tr>\n",
       "    <tr>\n",
       "      <th>30</th>\n",
       "      <td>US</td>\n",
       "      <td>5126.8</td>\n",
       "      <td>319173</td>\n",
       "      <td>9161923</td>\n",
       "      <td>559576.8</td>\n",
       "      <td>16062.8</td>\n",
       "      <td>34.84</td>\n",
       "      <td>29.552668</td>\n",
       "      <td>23.324363</td>\n",
       "      <td>18036.6</td>\n",
       "      <td>2.6</td>\n",
       "      <td>True</td>\n",
       "      <td>1.968648e+06</td>\n",
       "    </tr>\n",
       "  </tbody>\n",
       "</table>\n",
       "</div>"
      ],
      "text/plain": [
       "      Country  Subnational Debt  Population     Area  Debt per km squared  \\\n",
       "0   Australia             214.0       23639  7703354              27780.1   \n",
       "3      Canada            1017.8       35540  9093507             111926.0   \n",
       "8      France             287.6       66169   647795             443967.6   \n",
       "16      Japan            1742.4      127053   373530            4664685.6   \n",
       "25      Spain             492.4       46464   501757             981351.5   \n",
       "26     Sweden              66.4        9696   407340             163008.8   \n",
       "28     Turkey              47.1       76619   769604              61200.3   \n",
       "30         US            5126.8      319173  9161923             559576.8   \n",
       "\n",
       "    Debt per person  Population Density  Share of GDP  Share of Public Debt  \\\n",
       "0            9052.8                3.07     19.270136             30.443198   \n",
       "3           28638.2                3.91     63.542137             59.039130   \n",
       "8            4346.4              102.14     11.044813              9.266709   \n",
       "16          13714.0              340.14     37.286328             15.582228   \n",
       "25          10597.5               92.60     31.503996             26.752976   \n",
       "26           6848.2               23.80     15.119931             24.197714   \n",
       "28            614.7               99.56      3.132051              8.035278   \n",
       "30          16062.8               34.84     29.552668             23.324363   \n",
       "\n",
       "        GDP  GDP Growth  Lower quartile for population density  \\\n",
       "0    1131.8         2.8                                   True   \n",
       "3    1586.7         0.9                                   True   \n",
       "8    2729.2         1.3                                  False   \n",
       "16   4871.0         0.6                                  False   \n",
       "25   1612.9         3.2                                  False   \n",
       "26    469.0         4.1                                   True   \n",
       "28   1884.3         6.1                                  False   \n",
       "30  18036.6         2.6                                   True   \n",
       "\n",
       "    GDP per km squared  \n",
       "0         1.469230e+05  \n",
       "3         1.744871e+05  \n",
       "8         4.213061e+06  \n",
       "16        1.304045e+07  \n",
       "25        3.214504e+06  \n",
       "26        1.151372e+06  \n",
       "28        2.448402e+06  \n",
       "30        1.968648e+06  "
      ]
     },
     "execution_count": 16,
     "metadata": {},
     "output_type": "execute_result"
    }
   ],
   "source": [
    "import numpy as np\n",
    "import pandas as pd\n",
    "\n",
    "df = pd.read_excel('subnational-debt-OECD.xlsx', sheetname=\"Sheet1\")\n",
    "df[\"GDP per km squared\"] = (df.GDP * 1000000000) / df.Area\n",
    "simC = df[df[\"Population Density\"] < 52]\n",
    "\n",
    "df[df[\"Area\"] > 3.653490e+05]"
   ]
  },
  {
   "cell_type": "code",
   "execution_count": 27,
   "metadata": {
    "collapsed": true
   },
   "outputs": [],
   "source": [
    "labels = [\"Debt per km squared\" , \"GDP per km squared\"]\n"
   ]
  },
  {
   "cell_type": "code",
   "execution_count": 28,
   "metadata": {},
   "outputs": [
    {
     "data": {
      "image/png": "[encoded data removed]",
      "text/plain": [
       "<matplotlib.figure.Figure at 0xa7b90cac>"
      ]
     },
     "metadata": {},
     "output_type": "display_data"
    }
   ],
   "source": [
    "import matplotlib.pyplot as plt\n",
    "%matplotlib inline\n",
    "f = plt.figure()\n",
    "\n",
    "df.plot.scatter(x=labels[0], y=labels[1], c=\"Population Density\", cmap=\"coolwarm\", s=100, figsize=(20, 10), ax=f.gca())\n",
    "\n",
    "plt.legend(loc='center left', bbox_to_anchor=(1.0, 0.5))\n",
    "plt.text(x=df[labels[0]][3] + 30000, y=df[labels[1]][3], s=\"CAD\", fontsize=10, color=\"red\")\n",
    "plt.show()"
   ]
  },
  {
   "cell_type": "code",
   "execution_count": 10,
   "metadata": {},
   "outputs": [
    {
     "data": {
      "image/png": "[encoded data removed]",
      "text/plain": [
       "<matplotlib.figure.Figure at 0xa87e83ac>"
      ]
     },
     "metadata": {},
     "output_type": "display_data"
    }
   ],
   "source": [
    "f = plt.figure()\n",
    "\n",
    "\n",
    "df.plot.scatter(x=labels[0], y=\"Share of GDP\", c=\"Population Density\", cmap=\"coolwarm\", figsize=(20, 10), ax=f.gca())\n",
    "\n",
    "plt.legend(loc='center left', bbox_to_anchor=(1.0, 0.5))\n",
    "plt.text(x=df[labels[0]][3], y=df[\"Share of GDP\"][3], s=\"CAD\", fontsize=10, color=\"red\")\n",
    "plt.show()"
   ]
  },
  {
   "cell_type": "code",
   "execution_count": null,
   "metadata": {
    "collapsed": true
   },
   "outputs": [],
   "source": []
  }
 ],
 "metadata": {
  "kernelspec": {
   "display_name": "Python 3",
   "language": "python",
   "name": "python3"
  },
  "language_info": {
   "codemirror_mode": {
    "name": "ipython",
    "version": 3
   },
   "file_extension": ".py",
   "mimetype": "text/x-python",
   "name": "python",
   "nbconvert_exporter": "python",
   "pygments_lexer": "ipython3",
   "version": "3.6.3"
  }
 },
 "nbformat": 4,
 "nbformat_minor": 1
}
